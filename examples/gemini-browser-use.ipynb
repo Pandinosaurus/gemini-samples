{
 "cells": [
  {
   "cell_type": "markdown",
   "metadata": {},
   "source": [
    "# Google Gemini 2.0 Browser Demo \n",
    "\n",
    "This notebook demonstrates how to use Google Gemini 2.0 with `browser-use` to automate real browser interactions. Browser Use provides a powerful yet simple interface that enables AI to control your browser, making websites accessible for AI agents. Key features include direct browser control (navigate, click, interact with elements), complex workflow automation (multi-step tasks), and real-world applications like writing in Google Docs, automated job applications, flight searches, and data collection.\n",
    "\n",
    "**Example Use Cases**\n",
    "\n",
    "- Document Management: Write documents in Google Docs, save files in different formats (PDF, etc.), organize and manage content\n",
    "- Job Search Automation: Parse CVs and match with job listings, bulk apply to relevant positions, open applications in multiple tabs\n",
    "- Travel Planning: Search flights across platforms, compare prices and options, track travel deals\n",
    "- Data Collection: Scrape and analyze web content, save structured data to files, sort and filter information\n",
    "\n",
    "\n",
    "Learn more about Browser Use capabilities at [Browser Use Documentation](https://docs.browser-use.com/introduction). Browser use, uses the Playwright library and LangChain under the hood."
   ]
  },
  {
   "cell_type": "code",
   "execution_count": null,
   "metadata": {},
   "outputs": [],
   "source": [
    "# Note: Browser use required Python 3.11+\n",
    "%pip install langchain-google-genai \"browser-use=0.1.40\" pillow"
   ]
  },
  {
   "cell_type": "markdown",
   "metadata": {},
   "source": [
    "Browser use uses `playwright` to control the browser. Playwright works the best using it own Chromium browser. We can run `playwright install` to install the latest version of the Chromium browser. \n",
    "\n",
    "_Note: This downloads a supported version of Chromium to your machine. This is the same version that is used by the Browser use library._"
   ]
  },
  {
   "cell_type": "code",
   "execution_count": null,
   "metadata": {},
   "outputs": [],
   "source": [
    "!playwright install\n"
   ]
  },
  {
   "cell_type": "code",
   "execution_count": 6,
   "metadata": {},
   "outputs": [],
   "source": [
    "from langchain_google_genai import ChatGoogleGenerativeAI\n",
    "from browser_use import Agent, Browser, BrowserContextConfig, BrowserConfig\n",
    "from browser_use.browser.browser import BrowserContext\n",
    "from pydantic import SecretStr\n",
    "import os\n",
    "os.environ[\"ANONYMIZED_TELEMETRY\"] = \"false\" # Disable telemetry https://docs.browser-use.com/development/telemetry\n",
    "from dotenv import load_dotenv\n",
    "load_dotenv() # Loads the GEMINI_API_KEY form .env file \n",
    "\n",
    "# Initialize the model\n",
    "llm = ChatGoogleGenerativeAI(model='gemini-2.0-flash', api_key=SecretStr(os.getenv('GEMINI_API_KEY')))\n",
    "\n",
    "# Configure the browser to connect to your Chrome instance\n",
    "browser = Browser(\n",
    "    config=BrowserConfig(\n",
    "        # Specify the path to your Chrome executable if you are not using playwright managed browser can be different on different operating systems\n",
    "        # chrome_instance_path='/Applications/Google Chrome.app',  # default macOS path\n",
    "        # For Windows, typically: 'C:\\Program Files\\Google\\Chrome\\Application\\chrome.exe'\n",
    "        # For Linux, typically: '/usr/bin/google-chrome' or '/usr/bin/chrome'\n",
    "    )\n",
    ")\n",
    "context_config = BrowserContextConfig(\n",
    "    wait_for_network_idle_page_load_time=5.0, \n",
    "    # browser_window_size={'width': 768, 'height': 768},\n",
    "    highlight_elements=True,\n",
    "    save_recording_path='./recordings'\n",
    ")\n",
    "context = BrowserContext(browser=browser, config=context_config)\n"
   ]
  },
  {
   "cell_type": "code",
   "execution_count": 7,
   "metadata": {},
   "outputs": [
    {
     "name": "stdout",
     "output_type": "stream",
     "text": [
      "INFO     [agent] 🚀 Starting task: What is the cheapest flight from Berlin to San Francisco?\n"
     ]
    },
    {
     "name": "stdout",
     "output_type": "stream",
     "text": [
      "INFO     [agent] 📍 Step 1\n"
     ]
    },
    {
     "name": "stderr",
     "output_type": "stream",
     "text": [
      "WARNING: All log messages before absl::InitializeLog() is called are written to STDERR\n",
      "I0000 00:00:1740409852.589767 18282214 fork_posix.cc:75] Other threads are currently calling into gRPC, skipping fork() handlers\n"
     ]
    },
    {
     "name": "stdout",
     "output_type": "stream",
     "text": [
      "WARNING  [browser] Failed to force close browser context: asyncio.run() cannot be called from a running event loop\n"
     ]
    },
    {
     "name": "stderr",
     "output_type": "stream",
     "text": [
      "/Users/philschmid/projects/personal/gemini-samples/.venv/lib/python3.11/site-packages/browser_use/browser/context.py:231: RuntimeWarning: coroutine 'BrowserContext.close' was never awaited\n",
      "  logger.warning(f'Failed to force close browser context: {e}')\n",
      "RuntimeWarning: Enable tracemalloc to get the object allocation traceback\n"
     ]
    },
    {
     "name": "stdout",
     "output_type": "stream",
     "text": [
      "INFO     [agent] 🤷 Eval: The previous goal was to start the browser. It was successfull.\n",
      "INFO     [agent] 🧠 Memory: I have to find the cheapest flight from Berlin to San Francisco. I am on step 1/100.\n",
      "INFO     [agent] 🎯 Next goal: Search on google for the cheapest flight from Berlin to San Francisco.\n",
      "INFO     [agent] 🛠️  Action 1/1: {\"search_google\":{\"query\":\"cheapest flight from Berlin to San Francisco\"}}\n",
      "INFO     [controller] 🔍  Searched for \"cheapest flight from Berlin to San Francisco\" in Google\n",
      "INFO     [agent] 📍 Step 2\n",
      "INFO     [agent] 🤷 Eval: I searched for cheapest flights from Berlin to San Francisco. It was successfull.\n",
      "INFO     [agent] 🧠 Memory: I have to find the cheapest flight from Berlin to San Francisco. I am on step 2/100.\n",
      "INFO     [agent] 🎯 Next goal: Accept cookies.\n",
      "INFO     [agent] 🛠️  Action 1/1: {\"click_element\":{\"index\":5}}\n",
      "INFO     [controller] 🖱️  Clicked button with index 5: Alle akzeptieren\n",
      "INFO     [agent] 📍 Step 3\n",
      "INFO     [agent] 🤷 Eval: I accepted the cookies. It was successfull.\n",
      "INFO     [agent] 🧠 Memory: I have to find the cheapest flight from Berlin to San Francisco. I am on step 3/100.\n",
      "INFO     [agent] 🎯 Next goal: Click on find cheap flights from Berlin to San Francisco on Google flights.\n",
      "INFO     [agent] 🛠️  Action 1/1: {\"click_element\":{\"index\":46}}\n",
      "INFO     [controller] 🖱️  Clicked button with index 46: Find Cheap Flights from Berlin to San Francisco\n",
      "INFO     [agent] 📍 Step 4\n",
      "INFO     [agent] 🤷 Eval: I clicked on find cheap flights from Berlin to San Francisco on Google flights. It was successfull.\n",
      "INFO     [agent] 🧠 Memory: I have to find the cheapest flight from Berlin to San Francisco. I am on step 4/100.\n",
      "INFO     [agent] 🎯 Next goal: Find the cheapest flight.\n",
      "INFO     [agent] 🛠️  Action 1/1: {\"done\":{\"text\":\"The cheapest round-trip flight from Berlin to San Francisco is currently €432 with Lufthansa and United, 4 stops, 22 hr, Mar 27 \\n The cheapest one-way flight from Berlin to San Francisco is currently €348 with easyJet and WestJet, 2 stops, 34 hr, May 5. There are no direct flights on this route.\",\"success\":true}}\n",
      "INFO     [agent] 📄 Result: The cheapest round-trip flight from Berlin to San Francisco is currently €432 with Lufthansa and United, 4 stops, 22 hr, Mar 27 \n",
      " The cheapest one-way flight from Berlin to San Francisco is currently €348 with easyJet and WestJet, 2 stops, 34 hr, May 5. There are no direct flights on this route.\n",
      "INFO     [agent] ✅ Task completed\n",
      "INFO     [agent] ✅ Successfully\n",
      "The cheapest round-trip flight from Berlin to San Francisco is currently €432 with Lufthansa and United, 4 stops, 22 hr, Mar 27 \n",
      " The cheapest one-way flight from Berlin to San Francisco is currently €348 with easyJet and WestJet, 2 stops, 34 hr, May 5. There are no direct flights on this route.\n"
     ]
    }
   ],
   "source": [
    "# Create agent with the model\n",
    "agent = Agent(\n",
    "        task=\"What is the cheapest flight from Berlin to San Francisco?\",\n",
    "        llm=llm,\n",
    "    \t\tbrowser_context=context,\n",
    "        use_vision=True, # Enable vision capabilities, default is True\n",
    "    )\n",
    "result = await agent.run()\n",
    "# Manually close the browser \n",
    "await browser.close()\n",
    "\n",
    "print(result.final_result())    "
   ]
  },
  {
   "cell_type": "code",
   "execution_count": null,
   "metadata": {},
   "outputs": [],
   "source": []
  }
 ],
 "metadata": {
  "kernelspec": {
   "display_name": ".venv",
   "language": "python",
   "name": "python3"
  },
  "language_info": {
   "codemirror_mode": {
    "name": "ipython",
    "version": 3
   },
   "file_extension": ".py",
   "mimetype": "text/x-python",
   "name": "python",
   "nbconvert_exporter": "python",
   "pygments_lexer": "ipython3",
   "version": "3.11.11"
  }
 },
 "nbformat": 4,
 "nbformat_minor": 2
}
